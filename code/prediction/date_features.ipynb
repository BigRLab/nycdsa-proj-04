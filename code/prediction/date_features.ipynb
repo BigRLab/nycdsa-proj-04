{
 "cells": [
  {
   "cell_type": "code",
   "execution_count": null,
   "metadata": {
    "collapsed": true
   },
   "outputs": [],
   "source": [
    "# aux function to get date features from a timestamp\n",
    "def date_features(row, kind):\n",
    "    if row:\n",
    "        if kind == 'year':\n",
    "            return row[0:4]\n",
    "        if kind == 'month':\n",
    "            return row[5:7]\n",
    "        if kind == 'day':\n",
    "            return row[8:10]  \n",
    "    else:\n",
    "        return np.nan\n",
    "\n",
    "# generating columns for dataset    \n",
    "games['rlsDateYear'] = games.apply(lambda row: date_features(row['rlsDate'], 'year'), axis = 1)\n",
    "games['rlsDateMonth'] = games.apply(lambda row: date_features(row['rlsDate'], 'month'), axis = 1)\n",
    "games['rlsDateDay'] = games.apply(lambda row: date_features(row['rlsDate'], 'day'), axis = 1)\n",
    "\n",
    "# getting dummy variables\n",
    "games_processed = pd.concat([games, pd.get_dummies(games['year'])],  axis = 1)\n",
    "games_processed = pd.concat([games_processed , pd.get_dummies(games_processed['month'])],  axis = 1)\n",
    "games_processed = pd.concat([games_processed, pd.get_dummies(games_processed ['day'])],  axis = 1)\n",
    "\n",
    "# drop columns after dummyfication\n",
    "games_processed = games_processed.drop('rlsDateYear',1)\n",
    "games_processed = games_processed.drop('rlsDateMonth',1)\n",
    "games_processed = games_processed.drop('rlsDateDay',1)\n",
    "\n",
    "# droping 1994, 1995\n",
    "games_processed = games_processed.drop('1994',1)\n",
    "games_processed = games_processed.drop('1995',1)"
   ]
  }
 ],
 "metadata": {
  "kernelspec": {
   "display_name": "Python [default]",
   "language": "python",
   "name": "python2"
  },
  "language_info": {
   "codemirror_mode": {
    "name": "ipython",
    "version": 2
   },
   "file_extension": ".py",
   "mimetype": "text/x-python",
   "name": "python",
   "nbconvert_exporter": "python",
   "pygments_lexer": "ipython2",
   "version": "2.7.9"
  }
 },
 "nbformat": 4,
 "nbformat_minor": 1
}
