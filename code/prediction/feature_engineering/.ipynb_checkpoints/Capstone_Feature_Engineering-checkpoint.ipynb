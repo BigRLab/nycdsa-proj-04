{
 "cells": [
  {
   "cell_type": "code",
   "execution_count": 143,
   "metadata": {
    "collapsed": false
   },
   "outputs": [],
   "source": [
    "import sqlite3 as lite\n",
    "import pandas as pd\n",
    "db = lite.connect('capstone.db')\n",
    "cur = db.cursor()\n",
    "games = pd.read_sql_query('SELECT * FROM tblGame;', db)\n",
    "reviews = pd.read_sql_query('SELECT * FROM tblReview;', db)\n"
   ]
  },
  {
   "cell_type": "code",
   "execution_count": 144,
   "metadata": {
    "collapsed": false
   },
   "outputs": [],
   "source": [
    "#make ratings columns for encoding \n",
    "#ratings E' 'E10+' 'T' 'M'\n",
    "\n",
    "games_processed = games \n",
    "\n",
    "games_processed['gameID'] = games_processed.index + 1\n",
    "\n",
    "games_processed = pd.concat([games_processed, pd.get_dummies(games_processed['rating'])], axis=1)\n",
    "\n",
    "\n",
    "\n",
    "#drop link and image column\n",
    "games_processed = games_processed.drop('link', 1)\n",
    "games_processed = games_processed.drop('image', 1)\n",
    "\n",
    "#drop rating columns with low values\n",
    "games_processed = games_processed.drop('AO', 1)\n",
    "games_processed = games_processed.drop('', 1)\n",
    "games_processed = games_processed.drop('EC', 1)\n",
    "games_processed = games_processed.drop('K-A', 1)\n",
    "games_processed = games_processed.drop('RP', 1)\n",
    "\n",
    "games_processed = games_processed.drop('rating', 1)"
   ]
  },
  {
   "cell_type": "code",
   "execution_count": 145,
   "metadata": {
    "collapsed": false
   },
   "outputs": [],
   "source": [
    "#genre columns for encoding \n",
    "games_processed = pd.concat([games_processed, pd.get_dummies(games['genre'])], axis=1)\n",
    "\n",
    "#drop genres with less than 10 games\n",
    "games_processed = games_processed.drop('Action RPG', 1)\n",
    "games_processed = games_processed.drop('Alternative', 1)\n",
    "games_processed = games_processed.drop('Arcade', 1)\n",
    "games_processed = games_processed.drop('Basketball', 1)\n",
    "games_processed = games_processed.drop('Breeding/Constructing', 1)\n",
    "games_processed = games_processed.drop('Card Battle Games', 1)\n",
    "games_processed = games_processed.drop('City Building', 1)\n",
    "games_processed = games_processed.drop('Combat Sims', 1)\n",
    "games_processed = games_processed.drop('Compilations', 1)\n",
    "games_processed = games_processed.drop('Console-style RPG', 1)\n",
    "games_processed = games_processed.drop('First-Person Shooters', 1)\n",
    "games_processed = games_processed.drop('Football', 1)\n",
    "games_processed = games_processed.drop('Futuristic', 1)\n",
    "games_processed = games_processed.drop('Golf', 1)\n",
    "games_processed = games_processed.drop('Hidden Object', 1)\n",
    "games_processed = games_processed.drop('Ice Hockey', 1)\n",
    "games_processed = games_processed.drop('Japanese-Style', 1)\n",
    "games_processed = games_processed.drop('Massively Multiplayer', 1)\n",
    "games_processed = games_processed.drop('Massively Multiplayer Online', 1)\n",
    "games_processed = games_processed.drop('Military', 1)\n",
    "games_processed = games_processed.drop('Other Sports Games', 1)\n",
    "games_processed = games_processed.drop('PC-style RPG', 1)\n",
    "games_processed = games_processed.drop('Parlor Games', 1)\n",
    "games_processed = games_processed.drop('Party', 1)\n",
    "games_processed = games_processed.drop('Party Games', 1)\n",
    "games_processed = games_processed.drop('Platformer', 1)\n",
    "games_processed = games_processed.drop('Puzzle Games', 1)\n",
    "games_processed = games_processed.drop('Rail', 1)\n",
    "games_processed = games_processed.drop('Real-Time', 1)\n",
    "games_processed = games_processed.drop('Real-Time Strategy', 1)\n",
    "games_processed = games_processed.drop('Rhythm Games', 1)\n",
    "games_processed = games_processed.drop('Scrolling', 1)\n",
    "games_processed = games_processed.drop('Sim', 1)\n",
    "games_processed = games_processed.drop('Simulations', 1)\n",
    "games_processed = games_processed.drop('Soccer', 1)\n",
    "games_processed = games_processed.drop('Third-Person', 1)\n",
    "games_processed = games_processed.drop('Traditional', 1)\n",
    "games_processed = games_processed.drop('Turn-Based', 1)\n",
    "games_processed = games_processed.drop('Turn-Based Strategy', 1)\n",
    "games_processed = games_processed.drop('Tycoon', 1)\n",
    "games_processed = games_processed.drop('Virtual Life Games', 1)\n",
    "games_processed = games_processed.drop('Western-Style', 1)\n",
    "games_processed = games_processed.drop('genre', 1)"
   ]
  },
  {
   "cell_type": "code",
   "execution_count": 146,
   "metadata": {
    "collapsed": false
   },
   "outputs": [],
   "source": [
    "#Developers\n",
    "developer_count = games_processed['developer'].value_counts()\n",
    "#print sum(developer_count)\n",
    "#print len(developer_count)\n",
    "value_counts = games_processed['developer'].value_counts()\n",
    "\n",
    "#create list of developers with less than 50 games in database\n",
    "drop_developers = value_counts[value_counts < 50]\n",
    "drop_developers = drop_developers.index\n",
    "\n",
    "#replace with blank so that dummy columns are not created         \n",
    "games_processed['developer'] = games_processed.apply(lambda row:'' if row['developer'] in drop_developers else row['developer'], axis=1)"
   ]
  },
  {
   "cell_type": "code",
   "execution_count": 147,
   "metadata": {
    "collapsed": true
   },
   "outputs": [],
   "source": [
    "games_processed = pd.concat([games_processed, pd.get_dummies(games_processed['developer'])], axis=1)\n"
   ]
  },
  {
   "cell_type": "code",
   "execution_count": 148,
   "metadata": {
    "collapsed": false
   },
   "outputs": [],
   "source": [
    "#drop blank column and developer column\n",
    "\n",
    "games_processed = games_processed.drop('', 1)\n",
    "games_processed = games_processed.drop('developer', 1)"
   ]
  },
  {
   "cell_type": "code",
   "execution_count": 149,
   "metadata": {
    "collapsed": false
   },
   "outputs": [],
   "source": [
    "# aux function to get date features from a timestamp\n",
    "import numpy as np\n",
    "\n",
    "def date_features(row, kind):\n",
    "    if row:\n",
    "        if kind == 'year':\n",
    "            return row[0:4]\n",
    "        if kind == 'month':\n",
    "            return row[5:7]\n",
    "        if kind == 'day':\n",
    "            return row[8:10]  \n",
    "    else:\n",
    "        return np.nan\n",
    "\n",
    "# generating columns for dataset    \n",
    "games_processed['rlsDateYear'] = games_processed.apply(lambda row: date_features(row['rlsDate'], 'year'), axis = 1)\n",
    "games_processed['rlsDateMonth'] = games_processed.apply(lambda row: date_features(row['rlsDate'], 'month'), axis = 1)\n",
    "games_processed['rlsDateDay'] = games_processed.apply(lambda row: date_features(row['rlsDate'], 'day'), axis = 1)"
   ]
  },
  {
   "cell_type": "code",
   "execution_count": 150,
   "metadata": {
    "collapsed": false
   },
   "outputs": [],
   "source": [
    "\n",
    "# getting dummy variables\n",
    "games_processed = pd.concat([games_processed, pd.get_dummies(games_processed['rlsDateYear'])],  axis = 1)\n",
    "games_processed = pd.concat([games_processed, pd.get_dummies(games_processed['rlsDateMonth'])],  axis = 1)\n",
    "games_processed = games_processed.rename(columns={'01': 'Month_01', '02': 'Month_02', '03': 'Month_03', '04': 'Month_04', '05': 'Month_05', '06': 'Month_06', '07': 'Month_07', '08': 'Month_08', '09': 'Month_09', '10': 'Month_10', '11': 'Month_11', '12': 'Month_12'})\n",
    "\n",
    "games_processed = pd.concat([games_processed, pd.get_dummies(games_processed ['rlsDateDay'])],  axis = 1)\n",
    "\n",
    "# drop columns after dummyfication\n",
    "games_processed = games_processed.drop('rlsDateYear',1)\n",
    "games_processed = games_processed.drop('rlsDateMonth',1)\n",
    "games_processed = games_processed.drop('rlsDateDay',1)\n",
    "\n",
    "# droping 1994, 1995\n",
    "games_processed = games_processed.drop('1994',1)\n",
    "games_processed = games_processed.drop('1995',1)\n",
    "\n",
    "#drop original release date column\n",
    "games_processed = games_processed.drop('rlsDate',1)"
   ]
  },
  {
   "cell_type": "code",
   "execution_count": 153,
   "metadata": {
    "collapsed": false
   },
   "outputs": [
    {
     "data": {
      "text/html": [
       "<div>\n",
       "<table border=\"1\" class=\"dataframe\">\n",
       "  <thead>\n",
       "    <tr style=\"text-align: right;\">\n",
       "      <th></th>\n",
       "      <th>gameID</th>\n",
       "      <th>score</th>\n",
       "    </tr>\n",
       "  </thead>\n",
       "  <tbody>\n",
       "    <tr>\n",
       "      <th>0</th>\n",
       "      <td>1.0</td>\n",
       "      <td>61.200000</td>\n",
       "    </tr>\n",
       "    <tr>\n",
       "      <th>1</th>\n",
       "      <td>2.0</td>\n",
       "      <td>61.117647</td>\n",
       "    </tr>\n",
       "    <tr>\n",
       "      <th>2</th>\n",
       "      <td>3.0</td>\n",
       "      <td>15.697885</td>\n",
       "    </tr>\n",
       "    <tr>\n",
       "      <th>3</th>\n",
       "      <td>4.0</td>\n",
       "      <td>63.444444</td>\n",
       "    </tr>\n",
       "    <tr>\n",
       "      <th>4</th>\n",
       "      <td>5.0</td>\n",
       "      <td>61.000000</td>\n",
       "    </tr>\n",
       "  </tbody>\n",
       "</table>\n",
       "</div>"
      ],
      "text/plain": [
       "   gameID      score\n",
       "0     1.0  61.200000\n",
       "1     2.0  61.117647\n",
       "2     3.0  15.697885\n",
       "3     4.0  63.444444\n",
       "4     5.0  61.000000"
      ]
     },
     "execution_count": 153,
     "metadata": {},
     "output_type": "execute_result"
    }
   ],
   "source": [
    "scores_by_game = reviews.groupby(['gameID']).agg('mean')[['score']]\n",
    "scores_by_game = scores_by_game.reset_index()\n",
    "scores_by_game.head(5)"
   ]
  },
  {
   "cell_type": "code",
   "execution_count": 154,
   "metadata": {
    "collapsed": false
   },
   "outputs": [
    {
     "data": {
      "text/html": [
       "<div>\n",
       "<table border=\"1\" class=\"dataframe\">\n",
       "  <thead>\n",
       "    <tr style=\"text-align: right;\">\n",
       "      <th></th>\n",
       "      <th>name</th>\n",
       "      <th>summary</th>\n",
       "      <th>gameID</th>\n",
       "      <th>E</th>\n",
       "      <th>E10+</th>\n",
       "      <th>M</th>\n",
       "      <th>T</th>\n",
       "      <th>2D</th>\n",
       "      <th>Action</th>\n",
       "      <th>Action Adventure</th>\n",
       "      <th>...</th>\n",
       "      <th>22</th>\n",
       "      <th>23</th>\n",
       "      <th>24</th>\n",
       "      <th>25</th>\n",
       "      <th>26</th>\n",
       "      <th>27</th>\n",
       "      <th>28</th>\n",
       "      <th>29</th>\n",
       "      <th>30</th>\n",
       "      <th>31</th>\n",
       "    </tr>\n",
       "  </thead>\n",
       "  <tbody>\n",
       "    <tr>\n",
       "      <th>0</th>\n",
       "      <td>Ginger: Beyond the Crystal</td>\n",
       "      <td>A world destroyed by a crystal explosion, a my...</td>\n",
       "      <td>1</td>\n",
       "      <td>1.0</td>\n",
       "      <td>0.0</td>\n",
       "      <td>0.0</td>\n",
       "      <td>0.0</td>\n",
       "      <td>0.0</td>\n",
       "      <td>1.0</td>\n",
       "      <td>0.0</td>\n",
       "      <td>...</td>\n",
       "      <td>0.0</td>\n",
       "      <td>0.0</td>\n",
       "      <td>0.0</td>\n",
       "      <td>1.0</td>\n",
       "      <td>0.0</td>\n",
       "      <td>0.0</td>\n",
       "      <td>0.0</td>\n",
       "      <td>0.0</td>\n",
       "      <td>0.0</td>\n",
       "      <td>0.0</td>\n",
       "    </tr>\n",
       "    <tr>\n",
       "      <th>1</th>\n",
       "      <td>JoJo's Bizarre Adventure: Eyes of Heaven</td>\n",
       "      <td>Featuring a new two-on-two battle system, larg...</td>\n",
       "      <td>2</td>\n",
       "      <td>0.0</td>\n",
       "      <td>0.0</td>\n",
       "      <td>0.0</td>\n",
       "      <td>1.0</td>\n",
       "      <td>0.0</td>\n",
       "      <td>1.0</td>\n",
       "      <td>0.0</td>\n",
       "      <td>...</td>\n",
       "      <td>0.0</td>\n",
       "      <td>0.0</td>\n",
       "      <td>0.0</td>\n",
       "      <td>0.0</td>\n",
       "      <td>0.0</td>\n",
       "      <td>0.0</td>\n",
       "      <td>1.0</td>\n",
       "      <td>0.0</td>\n",
       "      <td>0.0</td>\n",
       "      <td>0.0</td>\n",
       "    </tr>\n",
       "    <tr>\n",
       "      <th>2</th>\n",
       "      <td>The Crew</td>\n",
       "      <td>Strap in for a ride that will find you infiltr...</td>\n",
       "      <td>3</td>\n",
       "      <td>0.0</td>\n",
       "      <td>0.0</td>\n",
       "      <td>0.0</td>\n",
       "      <td>1.0</td>\n",
       "      <td>0.0</td>\n",
       "      <td>0.0</td>\n",
       "      <td>0.0</td>\n",
       "      <td>...</td>\n",
       "      <td>0.0</td>\n",
       "      <td>0.0</td>\n",
       "      <td>0.0</td>\n",
       "      <td>0.0</td>\n",
       "      <td>0.0</td>\n",
       "      <td>0.0</td>\n",
       "      <td>0.0</td>\n",
       "      <td>0.0</td>\n",
       "      <td>0.0</td>\n",
       "      <td>0.0</td>\n",
       "    </tr>\n",
       "  </tbody>\n",
       "</table>\n",
       "<p>3 rows × 135 columns</p>\n",
       "</div>"
      ],
      "text/plain": [
       "                                       name  \\\n",
       "0                Ginger: Beyond the Crystal   \n",
       "1  JoJo's Bizarre Adventure: Eyes of Heaven   \n",
       "2                                  The Crew   \n",
       "\n",
       "                                             summary  gameID    E  E10+    M  \\\n",
       "0  A world destroyed by a crystal explosion, a my...       1  1.0   0.0  0.0   \n",
       "1  Featuring a new two-on-two battle system, larg...       2  0.0   0.0  0.0   \n",
       "2  Strap in for a ride that will find you infiltr...       3  0.0   0.0  0.0   \n",
       "\n",
       "     T   2D  Action  Action Adventure ...    22   23   24   25   26   27   28  \\\n",
       "0  0.0  0.0     1.0               0.0 ...   0.0  0.0  0.0  1.0  0.0  0.0  0.0   \n",
       "1  1.0  0.0     1.0               0.0 ...   0.0  0.0  0.0  0.0  0.0  0.0  1.0   \n",
       "2  1.0  0.0     0.0               0.0 ...   0.0  0.0  0.0  0.0  0.0  0.0  0.0   \n",
       "\n",
       "    29   30   31  \n",
       "0  0.0  0.0  0.0  \n",
       "1  0.0  0.0  0.0  \n",
       "2  0.0  0.0  0.0  \n",
       "\n",
       "[3 rows x 135 columns]"
      ]
     },
     "execution_count": 154,
     "metadata": {},
     "output_type": "execute_result"
    }
   ],
   "source": [
    "\n",
    "games_processed.head(3)"
   ]
  },
  {
   "cell_type": "code",
   "execution_count": 157,
   "metadata": {
    "collapsed": false
   },
   "outputs": [],
   "source": [
    "#add score column to data frame\n",
    "games_processed = games_processed.merge(scores_by_game, on = 'gameID')"
   ]
  },
  {
   "cell_type": "code",
   "execution_count": 158,
   "metadata": {
    "collapsed": true
   },
   "outputs": [],
   "source": [
    "import pickle\n",
    "\n",
    "with open('feature_engineering.pickle', 'wb') as handle:\n",
    "   pickle.dump(games_processed, handle, protocol=pickle.HIGHEST_PROTOCOL)"
   ]
  },
  {
   "cell_type": "code",
   "execution_count": null,
   "metadata": {
    "collapsed": true
   },
   "outputs": [],
   "source": []
  }
 ],
 "metadata": {
  "anaconda-cloud": {},
  "kernelspec": {
   "display_name": "Python [conda root]",
   "language": "python",
   "name": "conda-root-py"
  },
  "language_info": {
   "codemirror_mode": {
    "name": "ipython",
    "version": 3
   },
   "file_extension": ".py",
   "mimetype": "text/x-python",
   "name": "python",
   "nbconvert_exporter": "python",
   "pygments_lexer": "ipython3",
   "version": "3.5.2"
  }
 },
 "nbformat": 4,
 "nbformat_minor": 1
}
