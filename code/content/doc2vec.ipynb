{
 "cells": [
  {
   "cell_type": "code",
   "execution_count": 58,
   "metadata": {
    "collapsed": false
   },
   "outputs": [
    {
     "name": "stderr",
     "output_type": "stream",
     "text": [
      "ERROR:root:Line magic function `%cython` not found (But cell magic `%%cython` exists, did you mean that instead?).\n"
     ]
    },
    {
     "name": "stdout",
     "output_type": "stream",
     "text": [
      "The Cython extension is already loaded. To reload it, use:\n",
      "  %reload_ext Cython\n",
      "CPU times: user 22 µs, sys: 14 µs, total: 36 µs\n",
      "Wall time: 1.3 ms\n"
     ]
    }
   ],
   "source": [
    "%load_ext Cython\n",
    "%time\n",
    "%cython"
   ]
  },
  {
   "cell_type": "code",
   "execution_count": 59,
   "metadata": {
    "collapsed": false
   },
   "outputs": [],
   "source": [
    "#import needed packages\n",
    "from gensim.models import doc2vec\n",
    "\n",
    "import re\n",
    "import pandas as pd\n",
    "import numpy as np\n",
    "import copy\n",
    "\n",
    "# nltk processing\n",
    "import nltk\n",
    "from nltk.tag import pos_tag\n",
    "from nltk import word_tokenize\n",
    "from nltk.corpus import stopwords\n",
    "from nltk.classify import NaiveBayesClassifier\n",
    "from nltk.corpus import movie_reviews"
   ]
  },
  {
   "cell_type": "code",
   "execution_count": 60,
   "metadata": {
    "collapsed": true
   },
   "outputs": [],
   "source": [
    "import sqlite3\n",
    "conn = sqlite3.connect('data/capstone.db')\n",
    "# tblGame , tblMovie, tblReview, tblTVShow"
   ]
  },
  {
   "cell_type": "code",
   "execution_count": 64,
   "metadata": {
    "collapsed": false
   },
   "outputs": [
    {
     "data": {
      "text/html": [
       "<div>\n",
       "<table border=\"1\" class=\"dataframe\">\n",
       "  <thead>\n",
       "    <tr style=\"text-align: right;\">\n",
       "      <th></th>\n",
       "      <th>name</th>\n",
       "      <th>link</th>\n",
       "      <th>image</th>\n",
       "      <th>developer</th>\n",
       "      <th>genre</th>\n",
       "      <th>rating</th>\n",
       "      <th>rlsDate</th>\n",
       "      <th>summary</th>\n",
       "      <th>gameID</th>\n",
       "    </tr>\n",
       "  </thead>\n",
       "  <tbody>\n",
       "    <tr>\n",
       "      <th>0</th>\n",
       "      <td>Ginger: Beyond the Crystal</td>\n",
       "      <td>/game/playstation-4/ginger-beyond-the-crystal</td>\n",
       "      <td>http://static.metacritic.com/images/products/g...</td>\n",
       "      <td>Drakhar Studio</td>\n",
       "      <td>Action</td>\n",
       "      <td>E</td>\n",
       "      <td>2016-10-25 00:00:00</td>\n",
       "      <td>A world destroyed by a crystal explosion, a my...</td>\n",
       "      <td>1</td>\n",
       "    </tr>\n",
       "    <tr>\n",
       "      <th>1</th>\n",
       "      <td>JoJo's Bizarre Adventure: Eyes of Heaven</td>\n",
       "      <td>/game/playstation-4/jojos-bizarre-adventure-ey...</td>\n",
       "      <td>http://static.metacritic.com/images/products/g...</td>\n",
       "      <td>CyberConnect2</td>\n",
       "      <td>Action</td>\n",
       "      <td>T</td>\n",
       "      <td>2016-06-28 00:00:00</td>\n",
       "      <td>Featuring a new two-on-two battle system, larg...</td>\n",
       "      <td>2</td>\n",
       "    </tr>\n",
       "    <tr>\n",
       "      <th>2</th>\n",
       "      <td>The Crew</td>\n",
       "      <td>/game/playstation-4/the-crew</td>\n",
       "      <td>http://static.metacritic.com/images/products/g...</td>\n",
       "      <td>Ubisoft Reflections, Ivory Tower</td>\n",
       "      <td>Racing</td>\n",
       "      <td>T</td>\n",
       "      <td>2014-12-02 00:00:00</td>\n",
       "      <td>Strap in for a ride that will find you infiltr...</td>\n",
       "      <td>3</td>\n",
       "    </tr>\n",
       "    <tr>\n",
       "      <th>3</th>\n",
       "      <td>Batman: Arkham Knight - A Matter of Family</td>\n",
       "      <td>/game/playstation-4/batman-arkham-knight---a-m...</td>\n",
       "      <td>http://static.metacritic.com/images/products/g...</td>\n",
       "      <td>Rocksteady Studios, WB Games Montreal</td>\n",
       "      <td>Action Adventure</td>\n",
       "      <td>M</td>\n",
       "      <td>2015-07-14 00:00:00</td>\n",
       "      <td>When The Joker kidnaps Commissioner Gordon and...</td>\n",
       "      <td>4</td>\n",
       "    </tr>\n",
       "    <tr>\n",
       "      <th>4</th>\n",
       "      <td>8DAYS</td>\n",
       "      <td>/game/playstation-4/8days</td>\n",
       "      <td>http://static.metacritic.com/images/products/g...</td>\n",
       "      <td>Santa Clara Games</td>\n",
       "      <td>Action</td>\n",
       "      <td>M</td>\n",
       "      <td>2017-02-07 00:00:00</td>\n",
       "      <td>The world has been dominated by dark forces si...</td>\n",
       "      <td>5</td>\n",
       "    </tr>\n",
       "  </tbody>\n",
       "</table>\n",
       "</div>"
      ],
      "text/plain": [
       "                                         name  \\\n",
       "0                  Ginger: Beyond the Crystal   \n",
       "1    JoJo's Bizarre Adventure: Eyes of Heaven   \n",
       "2                                    The Crew   \n",
       "3  Batman: Arkham Knight - A Matter of Family   \n",
       "4                                       8DAYS   \n",
       "\n",
       "                                                link  \\\n",
       "0      /game/playstation-4/ginger-beyond-the-crystal   \n",
       "1  /game/playstation-4/jojos-bizarre-adventure-ey...   \n",
       "2                       /game/playstation-4/the-crew   \n",
       "3  /game/playstation-4/batman-arkham-knight---a-m...   \n",
       "4                          /game/playstation-4/8days   \n",
       "\n",
       "                                               image  \\\n",
       "0  http://static.metacritic.com/images/products/g...   \n",
       "1  http://static.metacritic.com/images/products/g...   \n",
       "2  http://static.metacritic.com/images/products/g...   \n",
       "3  http://static.metacritic.com/images/products/g...   \n",
       "4  http://static.metacritic.com/images/products/g...   \n",
       "\n",
       "                               developer             genre rating  \\\n",
       "0                         Drakhar Studio            Action      E   \n",
       "1                          CyberConnect2            Action      T   \n",
       "2       Ubisoft Reflections, Ivory Tower            Racing      T   \n",
       "3  Rocksteady Studios, WB Games Montreal  Action Adventure      M   \n",
       "4                      Santa Clara Games            Action      M   \n",
       "\n",
       "               rlsDate                                            summary  \\\n",
       "0  2016-10-25 00:00:00  A world destroyed by a crystal explosion, a my...   \n",
       "1  2016-06-28 00:00:00  Featuring a new two-on-two battle system, larg...   \n",
       "2  2014-12-02 00:00:00  Strap in for a ride that will find you infiltr...   \n",
       "3  2015-07-14 00:00:00  When The Joker kidnaps Commissioner Gordon and...   \n",
       "4  2017-02-07 00:00:00  The world has been dominated by dark forces si...   \n",
       "\n",
       "   gameID  \n",
       "0       1  \n",
       "1       2  \n",
       "2       3  \n",
       "3       4  \n",
       "4       5  "
      ]
     },
     "execution_count": 64,
     "metadata": {},
     "output_type": "execute_result"
    }
   ],
   "source": [
    "# load games dataset\n",
    "games = pd.read_sql_query(\"select * from tblGame;\", conn)\n",
    "games['gameID'] = games.index + 1\n",
    "games.head(5)"
   ]
  },
  {
   "cell_type": "code",
   "execution_count": 65,
   "metadata": {
    "collapsed": false
   },
   "outputs": [],
   "source": [
    "# Read in Critic Reviews\n",
    "reviews = pd.read_sql_query(\"select * from tblReview;\", conn)\n"
   ]
  },
  {
   "cell_type": "code",
   "execution_count": 66,
   "metadata": {
    "collapsed": false
   },
   "outputs": [
    {
     "data": {
      "text/html": [
       "<div>\n",
       "<table border=\"1\" class=\"dataframe\">\n",
       "  <thead>\n",
       "    <tr style=\"text-align: right;\">\n",
       "      <th></th>\n",
       "      <th>gameID</th>\n",
       "      <th>text</th>\n",
       "    </tr>\n",
       "  </thead>\n",
       "  <tbody>\n",
       "    <tr>\n",
       "      <th>0</th>\n",
       "      <td>1.0</td>\n",
       "      <td>Ginger: Beyond the Crystal is a very good plat...</td>\n",
       "    </tr>\n",
       "    <tr>\n",
       "      <th>1</th>\n",
       "      <td>1.0</td>\n",
       "      <td>It\\s not a bad game at all, but it has technic...</td>\n",
       "    </tr>\n",
       "    <tr>\n",
       "      <th>2</th>\n",
       "      <td>1.0</td>\n",
       "      <td>Ginger: Beyond the Crystal tries to revisit th...</td>\n",
       "    </tr>\n",
       "    <tr>\n",
       "      <th>3</th>\n",
       "      <td>1.0</td>\n",
       "      <td>It may not offer much of a challenge or much i...</td>\n",
       "    </tr>\n",
       "    <tr>\n",
       "      <th>4</th>\n",
       "      <td>1.0</td>\n",
       "      <td>It may sound like I’m being harsh on Ginger, b...</td>\n",
       "    </tr>\n",
       "  </tbody>\n",
       "</table>\n",
       "</div>"
      ],
      "text/plain": [
       "   gameID                                               text\n",
       "0     1.0  Ginger: Beyond the Crystal is a very good plat...\n",
       "1     1.0  It\\s not a bad game at all, but it has technic...\n",
       "2     1.0  Ginger: Beyond the Crystal tries to revisit th...\n",
       "3     1.0  It may not offer much of a challenge or much i...\n",
       "4     1.0  It may sound like I’m being harsh on Ginger, b..."
      ]
     },
     "execution_count": 66,
     "metadata": {},
     "output_type": "execute_result"
    }
   ],
   "source": [
    "# subset for just critic reviews to build a model\n",
    "subset = reviews[reviews['reviewType']=='c']\n",
    "subset = df[['gameID','text']]\n",
    "subset = subset.dropna()\n",
    "subset.head(5)"
   ]
  },
  {
   "cell_type": "code",
   "execution_count": 67,
   "metadata": {
    "collapsed": false
   },
   "outputs": [
    {
     "data": {
      "text/html": [
       "<div>\n",
       "<table border=\"1\" class=\"dataframe\">\n",
       "  <thead>\n",
       "    <tr style=\"text-align: right;\">\n",
       "      <th></th>\n",
       "      <th>gameID</th>\n",
       "      <th>text</th>\n",
       "    </tr>\n",
       "  </thead>\n",
       "  <tbody>\n",
       "    <tr>\n",
       "      <th>0</th>\n",
       "      <td>1.0</td>\n",
       "      <td>Ginger: Beyond the Crystal is a very good plat...</td>\n",
       "    </tr>\n",
       "    <tr>\n",
       "      <th>1</th>\n",
       "      <td>2.0</td>\n",
       "      <td>JoJo’s Bizarre Adventure: Eyes in Heaven featu...</td>\n",
       "    </tr>\n",
       "    <tr>\n",
       "      <th>2</th>\n",
       "      <td>3.0</td>\n",
       "      <td>The Crew does a lot of things right. Not only ...</td>\n",
       "    </tr>\n",
       "    <tr>\n",
       "      <th>3</th>\n",
       "      <td>4.0</td>\n",
       "      <td>Playing as Batgirl is not quite as interesting...</td>\n",
       "    </tr>\n",
       "    <tr>\n",
       "      <th>4</th>\n",
       "      <td>5.0</td>\n",
       "      <td>The frantic nature of the gameplay coupled wit...</td>\n",
       "    </tr>\n",
       "  </tbody>\n",
       "</table>\n",
       "</div>"
      ],
      "text/plain": [
       "   gameID                                               text\n",
       "0     1.0  Ginger: Beyond the Crystal is a very good plat...\n",
       "1     2.0  JoJo’s Bizarre Adventure: Eyes in Heaven featu...\n",
       "2     3.0  The Crew does a lot of things right. Not only ...\n",
       "3     4.0  Playing as Batgirl is not quite as interesting...\n",
       "4     5.0  The frantic nature of the gameplay coupled wit..."
      ]
     },
     "execution_count": 67,
     "metadata": {},
     "output_type": "execute_result"
    }
   ],
   "source": [
    "# get a unique review corpus\n",
    "review_docs = subset.groupby(['gameID'])['text'].apply(lambda x: ''.join(x)).reset_index()\n",
    "review_docs.head(5)"
   ]
  },
  {
   "cell_type": "code",
   "execution_count": 68,
   "metadata": {
    "collapsed": true
   },
   "outputs": [],
   "source": [
    "stopwrds = stopwords.words('english')"
   ]
  },
  {
   "cell_type": "code",
   "execution_count": 69,
   "metadata": {
    "collapsed": true
   },
   "outputs": [],
   "source": [
    "# aux function to clean up text\n",
    "def cleaning_text(sentence):\n",
    "    sentence = str(sentence)\n",
    "    sentence = sentence.lower()\n",
    "    sentence = re.sub('[^\\w\\s]',' ', sentence)\n",
    "    sentence = re.sub('_',' ', sentence)\n",
    "    sentence = re.sub('\\d+',' ', sentence)\n",
    "    cleaned = ' '.join([w for w in sentence.split() if not w in stopwrds])\n",
    "    cleaned = ' '.join([w for w , pos in pos_tag(cleaned.split()) if (pos == 'NN' or pos=='JJ' or pos=='JJR' or pos=='JJS' )])\n",
    "    cleaned = ' '.join([w for w in cleaned.split() if not len(w)<=2 ])\n",
    "    cleaned = cleaned.strip()\n",
    "    return cleaned"
   ]
  },
  {
   "cell_type": "code",
   "execution_count": 71,
   "metadata": {
    "collapsed": false
   },
   "outputs": [],
   "source": [
    "# clean up review docs, add utf8 encoding\n",
    "review_docs['textClean'] = review_docs.apply(lambda row: cleaning_text(row['text'].encode(\"utf8\")), axis=1)"
   ]
  },
  {
   "cell_type": "code",
   "execution_count": 72,
   "metadata": {
    "collapsed": false
   },
   "outputs": [],
   "source": [
    "# define a few functions for doc2vec processing\n",
    "def split_sentence(sentence):\n",
    "    words = re.split('\\W+', sentence.lower())\n",
    "    return [word for word in words if word != \"\"]\n",
    "\n",
    "# MyDocs reading from a data frame\n",
    "class MyDocs(object):\n",
    "    def __iter__(self):\n",
    "        for i in range(review_docs.shape[0]):\n",
    "            yield doc2vec.LabeledSentence(words=split_sentence(review_docs.iloc[i,2]), tags=['%s' % i])"
   ]
  },
  {
   "cell_type": "code",
   "execution_count": 73,
   "metadata": {
    "collapsed": true
   },
   "outputs": [],
   "source": [
    "# Train the doc2vec model\n",
    "mydocs = MyDocs()\n",
    "model = doc2vec.Doc2Vec(mydocs, size = 200, window = 8, min_count = 5, workers = 4)\n",
    "model.save(\"data/review.model\")"
   ]
  },
  {
   "cell_type": "code",
   "execution_count": 74,
   "metadata": {
    "collapsed": false
   },
   "outputs": [
    {
     "name": "stdout",
     "output_type": "stream",
     "text": [
      "[('princess', 0.5597556829452515), ('rerelease', 0.5508875250816345), ('remix', 0.49537473917007446), ('timeless', 0.49250730872154236), ('runic', 0.48749983310699463)]\n"
     ]
    }
   ],
   "source": [
    "# testing similar words\n",
    "print model.most_similar(positive=[\"cheap\", \"zelda\"], negative=[\"slow\"], topn=5)"
   ]
  },
  {
   "cell_type": "code",
   "execution_count": 75,
   "metadata": {
    "collapsed": true
   },
   "outputs": [],
   "source": [
    "# Auxiliary functions for simple recommendation system \n",
    "\n",
    "# Calculate cosine similarity between two vecotrs \n",
    "def cossim(v1, v2): \n",
    "    return np.dot(v1, v2) / np.sqrt(np.dot(v1, v1)) / np.sqrt(np.dot(v2, v2)) \n",
    "\n",
    "# return top_n values from a list\n",
    "def top_n_index(l,n):\n",
    "    return sorted(range(len(l)), key=lambda i: l[i])[-(n+1):-1] #-1 to take off the own product from the returned index list\n",
    "\n",
    "# return a dataframe with top_n products with cosine similarity score\n",
    "def recommend(l,n):\n",
    "    # get indexes of top_n similar items \n",
    "    index = top_n_index(l, n)\n",
    "    \n",
    "    # return list of products \n",
    "    top_products = copy.deepcopy(review_docs.iloc[index,][['gameID']])\n",
    "    top_products['index']= top_products.index\n",
    "    \n",
    "    # initialize an empty column for cosine similarity\n",
    "    top_products['cossim']=0\n",
    "    \n",
    "    for i in range(len(index)):\n",
    "        # note - this results in a bug: top_products['cossim'].loc[index[i],] = sim_array[index[i]]\n",
    "        top_products.loc[index[i],'cossim'] = sim_array[index[i]]\n",
    "        \n",
    "    return top_products   "
   ]
  },
  {
   "cell_type": "code",
   "execution_count": 89,
   "metadata": {
    "collapsed": false
   },
   "outputs": [
    {
     "data": {
      "text/html": [
       "<div>\n",
       "<table border=\"1\" class=\"dataframe\">\n",
       "  <thead>\n",
       "    <tr style=\"text-align: right;\">\n",
       "      <th></th>\n",
       "      <th>name</th>\n",
       "      <th>link</th>\n",
       "      <th>image</th>\n",
       "      <th>developer</th>\n",
       "      <th>genre</th>\n",
       "      <th>rating</th>\n",
       "      <th>rlsDate</th>\n",
       "      <th>summary</th>\n",
       "      <th>gameID</th>\n",
       "    </tr>\n",
       "  </thead>\n",
       "  <tbody>\n",
       "    <tr>\n",
       "      <th>14589</th>\n",
       "      <td>Overwatch</td>\n",
       "      <td>/game/pc/overwatch</td>\n",
       "      <td>http://static.metacritic.com/images/products/g...</td>\n",
       "      <td>Blizzard Entertainment</td>\n",
       "      <td>General</td>\n",
       "      <td>T</td>\n",
       "      <td>2016-05-23 00:00:00</td>\n",
       "      <td>Overwatch is a highly stylized team-based shoo...</td>\n",
       "      <td>14590</td>\n",
       "    </tr>\n",
       "    <tr>\n",
       "      <th>17748</th>\n",
       "      <td>Overwatch</td>\n",
       "      <td>/game/xbox-one/overwatch</td>\n",
       "      <td>http://static.metacritic.com/images/products/g...</td>\n",
       "      <td>Blizzard Entertainment</td>\n",
       "      <td>Action</td>\n",
       "      <td>T</td>\n",
       "      <td>2016-05-23 00:00:00</td>\n",
       "      <td>Overwatch is a highly stylized team-based shoo...</td>\n",
       "      <td>17749</td>\n",
       "    </tr>\n",
       "    <tr>\n",
       "      <th>17865</th>\n",
       "      <td>Overwatch</td>\n",
       "      <td>/game/playstation-4/overwatch</td>\n",
       "      <td>http://static.metacritic.com/images/products/g...</td>\n",
       "      <td>Blizzard Entertainment</td>\n",
       "      <td>Action</td>\n",
       "      <td>T</td>\n",
       "      <td>2016-05-23 00:00:00</td>\n",
       "      <td>Overwatch is a highly stylized team-based shoo...</td>\n",
       "      <td>17866</td>\n",
       "    </tr>\n",
       "  </tbody>\n",
       "</table>\n",
       "</div>"
      ],
      "text/plain": [
       "            name                           link  \\\n",
       "14589  Overwatch             /game/pc/overwatch   \n",
       "17748  Overwatch       /game/xbox-one/overwatch   \n",
       "17865  Overwatch  /game/playstation-4/overwatch   \n",
       "\n",
       "                                                   image  \\\n",
       "14589  http://static.metacritic.com/images/products/g...   \n",
       "17748  http://static.metacritic.com/images/products/g...   \n",
       "17865  http://static.metacritic.com/images/products/g...   \n",
       "\n",
       "                    developer    genre rating              rlsDate  \\\n",
       "14589  Blizzard Entertainment  General      T  2016-05-23 00:00:00   \n",
       "17748  Blizzard Entertainment   Action      T  2016-05-23 00:00:00   \n",
       "17865  Blizzard Entertainment   Action      T  2016-05-23 00:00:00   \n",
       "\n",
       "                                                 summary  gameID  \n",
       "14589  Overwatch is a highly stylized team-based shoo...   14590  \n",
       "17748  Overwatch is a highly stylized team-based shoo...   17749  \n",
       "17865  Overwatch is a highly stylized team-based shoo...   17866  "
      ]
     },
     "execution_count": 89,
     "metadata": {},
     "output_type": "execute_result"
    }
   ],
   "source": [
    "games.loc[games['name'].str.contains('Overwatch')]"
   ]
  },
  {
   "cell_type": "code",
   "execution_count": 93,
   "metadata": {
    "collapsed": false
   },
   "outputs": [
    {
     "name": "stdout",
     "output_type": "stream",
     "text": [
      "You liked this product::: 17865    Overwatch\n",
      "Name: name, dtype: object\n"
     ]
    },
    {
     "data": {
      "text/html": [
       "<div>\n",
       "<table border=\"1\" class=\"dataframe\">\n",
       "  <thead>\n",
       "    <tr style=\"text-align: right;\">\n",
       "      <th></th>\n",
       "      <th>gameID</th>\n",
       "      <th>index</th>\n",
       "      <th>cossim</th>\n",
       "      <th>name</th>\n",
       "    </tr>\n",
       "  </thead>\n",
       "  <tbody>\n",
       "    <tr>\n",
       "      <th>0</th>\n",
       "      <td>15286</td>\n",
       "      <td>15259</td>\n",
       "      <td>0.716596</td>\n",
       "      <td>Section 8: Prejudice</td>\n",
       "    </tr>\n",
       "    <tr>\n",
       "      <th>1</th>\n",
       "      <td>17749</td>\n",
       "      <td>17717</td>\n",
       "      <td>0.718418</td>\n",
       "      <td>Overwatch</td>\n",
       "    </tr>\n",
       "    <tr>\n",
       "      <th>2</th>\n",
       "      <td>19446</td>\n",
       "      <td>19414</td>\n",
       "      <td>0.722208</td>\n",
       "      <td>Plants vs Zombies: Garden Warfare</td>\n",
       "    </tr>\n",
       "    <tr>\n",
       "      <th>3</th>\n",
       "      <td>5717</td>\n",
       "      <td>5714</td>\n",
       "      <td>0.735982</td>\n",
       "      <td>Battlefield 1943</td>\n",
       "    </tr>\n",
       "    <tr>\n",
       "      <th>4</th>\n",
       "      <td>18013</td>\n",
       "      <td>17981</td>\n",
       "      <td>0.740918</td>\n",
       "      <td>Titanfall</td>\n",
       "    </tr>\n",
       "    <tr>\n",
       "      <th>5</th>\n",
       "      <td>12690</td>\n",
       "      <td>12666</td>\n",
       "      <td>0.751953</td>\n",
       "      <td>Splatoon</td>\n",
       "    </tr>\n",
       "    <tr>\n",
       "      <th>6</th>\n",
       "      <td>14590</td>\n",
       "      <td>14564</td>\n",
       "      <td>0.782060</td>\n",
       "      <td>Overwatch</td>\n",
       "    </tr>\n",
       "  </tbody>\n",
       "</table>\n",
       "</div>"
      ],
      "text/plain": [
       "   gameID  index    cossim                               name\n",
       "0   15286  15259  0.716596               Section 8: Prejudice\n",
       "1   17749  17717  0.718418                          Overwatch\n",
       "2   19446  19414  0.722208  Plants vs Zombies: Garden Warfare\n",
       "3    5717   5714  0.735982                   Battlefield 1943\n",
       "4   18013  17981  0.740918                          Titanfall\n",
       "5   12690  12666  0.751953                           Splatoon\n",
       "6   14590  14564  0.782060                          Overwatch"
      ]
     },
     "execution_count": 93,
     "metadata": {},
     "output_type": "execute_result"
    }
   ],
   "source": [
    "# \"Basic recommendation system with doc2vec\n",
    "\n",
    "# Select gameID of a product you like\n",
    "gameID = 17866\n",
    "input_vec = model.docvecs[review_docs.loc[review_docs['gameID']==gameID].index[0]]\n",
    "\n",
    "# Calculated a cossim matrix between input product and model's vectors\n",
    "sim_array = map(lambda v: cossim(input_vec, v), model.docvecs)\n",
    "\n",
    "#recommendation\n",
    "print \"You liked this product::: %s\" %games.loc[games['gameID']==gameID]['name']\n",
    "res = recommend(sim_array,7)\n",
    "res['gameID'] = res.apply(lambda row: int(row['gameID']),axis = 1)\n",
    "pd.merge(res, games[['gameID','name']], on='gameID')"
   ]
  },
  {
   "cell_type": "code",
   "execution_count": 94,
   "metadata": {
    "collapsed": false
   },
   "outputs": [],
   "source": [
    "#save a pickle file\n",
    "import pickle\n",
    "\n",
    "with open('models/model_critic_only.pickle', 'wb') as handle:\n",
    "    pickle.dump(model, handle, protocol=pickle.HIGHEST_PROTOCOL)\n"
   ]
  },
  {
   "cell_type": "code",
   "execution_count": 95,
   "metadata": {
    "collapsed": true
   },
   "outputs": [],
   "source": [
    "# to load a pickle file\n",
    "#with open('models/model_critic_only.pickle', 'rb') as f:\n",
    "#    entry = pickle.load(f)   "
   ]
  },
  {
   "cell_type": "code",
   "execution_count": null,
   "metadata": {
    "collapsed": true
   },
   "outputs": [],
   "source": []
  }
 ],
 "metadata": {
  "anaconda-cloud": {},
  "kernelspec": {
   "display_name": "Python [default]",
   "language": "python",
   "name": "python2"
  },
  "language_info": {
   "codemirror_mode": {
    "name": "ipython",
    "version": 2
   },
   "file_extension": ".py",
   "mimetype": "text/x-python",
   "name": "python",
   "nbconvert_exporter": "python",
   "pygments_lexer": "ipython2",
   "version": "2.7.9"
  }
 },
 "nbformat": 4,
 "nbformat_minor": 0
}
