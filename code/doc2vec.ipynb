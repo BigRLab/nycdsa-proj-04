{
 "cells": [
  {
   "cell_type": "code",
   "execution_count": null,
   "metadata": {
    "collapsed": true
   },
   "outputs": [],
   "source": [
    "%load_ext Cython\n",
    "%%time\n",
    "%%cython"
   ]
  },
  {
   "cell_type": "code",
   "execution_count": 367,
   "metadata": {
    "collapsed": true
   },
   "outputs": [],
   "source": [
    "#import needed packages\n",
    "from gensim.models import doc2vec\n",
    "\n",
    "import re\n",
    "import pandas as pd\n",
    "import numpy as np\n",
    "import copy\n",
    "\n",
    "# nltk processing\n",
    "import nltk\n",
    "from nltk.tag import pos_tag\n",
    "from nltk import word_tokenize\n",
    "from nltk.corpus import stopwords\n",
    "from nltk.classify import NaiveBayesClassifier\n",
    "from nltk.corpus import movie_reviews"
   ]
  },
  {
   "cell_type": "code",
   "execution_count": 357,
   "metadata": {
    "collapsed": true
   },
   "outputs": [],
   "source": [
    "# Dataset manipulation\n",
    "\n",
    "# read in toy dataset\n",
    "filepath = \"data/skincare.csv\"\n",
    "data = pd.read_csv(filepath)\n",
    "\n",
    "# subset for just reviews to build a model\n",
    "subset = data[['Product','ReviewContent']]\n",
    "subset = subset.dropna()\n",
    "\n",
    "# get a unique review corpus\n",
    "review_docs = subset.groupby(['Product'])['ReviewContent'].apply(lambda x: ''.join(x)).reset_index()\n"
   ]
  },
  {
   "cell_type": "code",
   "execution_count": 354,
   "metadata": {
    "collapsed": true
   },
   "outputs": [],
   "source": [
    "stopwrds = stopwords.words('english')"
   ]
  },
  {
   "cell_type": "code",
   "execution_count": 368,
   "metadata": {
    "collapsed": true
   },
   "outputs": [],
   "source": [
    "# aux function to clean up text\n",
    "def cleaning_text(sentence):\n",
    "    sentence = str(sentence)\n",
    "    sentence = sentence.lower()\n",
    "    sentence = re.sub('[^\\w\\s]',' ', sentence)\n",
    "    sentence = re.sub('_',' ', sentence)\n",
    "    sentence = re.sub('\\d+',' ', sentence)\n",
    "    cleaned = ' '.join([w for w in sentence.split() if not w in stopwrds])\n",
    "    cleaned = ' '.join([w for w , pos in pos_tag(cleaned.split()) if (pos == 'NN' or pos=='JJ' or pos=='JJR' or pos=='JJS' )])\n",
    "    cleaned = ' '.join([w for w in cleaned.split() if not len(w)<=2 ])\n",
    "    cleaned = cleaned.strip()\n",
    "    return cleaned"
   ]
  },
  {
   "cell_type": "code",
   "execution_count": null,
   "metadata": {
    "collapsed": true
   },
   "outputs": [],
   "source": [
    "# clean up review docs\n",
    "review_docs['ReviewContentClean'] = review_docs.apply(lambda row: cleaning_text(row['ReviewContent']), axis=1)"
   ]
  },
  {
   "cell_type": "code",
   "execution_count": 381,
   "metadata": {
    "collapsed": false
   },
   "outputs": [],
   "source": [
    "# define a few functions for doc2vec processing\n",
    "def split_sentence(sentence):\n",
    "    words = re.split('\\W+', sentence.lower())\n",
    "    return [word for word in words if word != \"\"]\n",
    "\n",
    "# MyDocs reading from a data frame\n",
    "class MyDocs(object):\n",
    "    def __iter__(self):\n",
    "        for i in range(review_docs.shape[0]):\n",
    "            yield doc2vec.LabeledSentence(words=split_sentence(review_docs.iloc[i,2]), tags=['%s' % i])"
   ]
  },
  {
   "cell_type": "code",
   "execution_count": 382,
   "metadata": {
    "collapsed": true
   },
   "outputs": [],
   "source": [
    "# Train the doc2vec model\n",
    "mydocs = MyDocs()\n",
    "model = doc2vec.Doc2Vec(mydocs, size = 200, window = 8, min_count = 5, workers = 4)\n",
    "model.save(\"data/review.model\")"
   ]
  },
  {
   "cell_type": "code",
   "execution_count": 383,
   "metadata": {
    "collapsed": false
   },
   "outputs": [
    {
     "name": "stdout",
     "output_type": "stream",
     "text": [
      "[('friendly', 0.8479662537574768), ('sweet', 0.7924125790596008), ('paste', 0.7893930077552795), ('vanilla', 0.7782337665557861), ('sturdy', 0.7691439986228943)]\n"
     ]
    }
   ],
   "source": [
    "# testing similar words\n",
    "print model.most_similar(positive=[\"cheap\", \"lemon\"], negative=[\"acne\"], topn=5)"
   ]
  },
  {
   "cell_type": "code",
   "execution_count": 387,
   "metadata": {
    "collapsed": true
   },
   "outputs": [],
   "source": [
    "# Auxiliary functions for simple recommendation system \n",
    "\n",
    "# Calculate cosine similarity between two vecotrs \n",
    "def cossim(v1, v2): \n",
    "    return np.dot(v1, v2) / np.sqrt(np.dot(v1, v1)) / np.sqrt(np.dot(v2, v2)) \n",
    "\n",
    "# return top_n values from a list\n",
    "def top_n(l,n):\n",
    "    return sorted(range(len(l)), key=lambda i: l[i])[-(n+1):-1] #-1 to take off the own product from the returned index list\n",
    "\n",
    "# return a dataframe with top_n products with cosine similarity score\n",
    "def recommend(l,n):\n",
    "    # get indexes of top_n similar items \n",
    "    index = top_n(sim_array, n)\n",
    "    \n",
    "    # return list of products \n",
    "    top_products = copy.deepcopy(review_docs.iloc[top_n(sim_array, n),][['Product']])\n",
    "    top_products['index']= top_products.index\n",
    "    \n",
    "    # initialize an empty column for cosine similarity\n",
    "    top_products['cossim']=0\n",
    "    \n",
    "    for i in range(len(index)):\n",
    "        # note - this results in a bug: top_products['cossim'].loc[index[i],] = sim_array[index[i]]\n",
    "        top_products.loc[index[i],'cossim'] = sim_array[index[i]]\n",
    "        \n",
    "    return top_products   "
   ]
  },
  {
   "cell_type": "code",
   "execution_count": 397,
   "metadata": {
    "collapsed": false
   },
   "outputs": [
    {
     "name": "stdout",
     "output_type": "stream",
     "text": [
      "You liked this product::: 100% Natural Aqua Tan Self Tanning Spray for Faces\n"
     ]
    },
    {
     "data": {
      "text/html": [
       "<div>\n",
       "<table border=\"1\" class=\"dataframe\">\n",
       "  <thead>\n",
       "    <tr style=\"text-align: right;\">\n",
       "      <th></th>\n",
       "      <th>Product</th>\n",
       "      <th>index</th>\n",
       "      <th>cossim</th>\n",
       "    </tr>\n",
       "  </thead>\n",
       "  <tbody>\n",
       "    <tr>\n",
       "      <th>3569</th>\n",
       "      <td>M.A.C. Mineralize Charged Water: Revitalizing ...</td>\n",
       "      <td>3569</td>\n",
       "      <td>0.862907</td>\n",
       "    </tr>\n",
       "    <tr>\n",
       "      <th>1446</th>\n",
       "      <td>Coppertone Sport Continuous Spray SPF 30</td>\n",
       "      <td>1446</td>\n",
       "      <td>0.864155</td>\n",
       "    </tr>\n",
       "    <tr>\n",
       "      <th>746</th>\n",
       "      <td>Bioelements WARM GLOW FACE TINT</td>\n",
       "      <td>746</td>\n",
       "      <td>0.873070</td>\n",
       "    </tr>\n",
       "    <tr>\n",
       "      <th>2442</th>\n",
       "      <td>GloMinerals gloBody Glisten</td>\n",
       "      <td>2442</td>\n",
       "      <td>0.887799</td>\n",
       "    </tr>\n",
       "    <tr>\n",
       "      <th>611</th>\n",
       "      <td>Banana Boat UltraMist Dark Tanning Lotion SPF ...</td>\n",
       "      <td>611</td>\n",
       "      <td>0.906903</td>\n",
       "    </tr>\n",
       "  </tbody>\n",
       "</table>\n",
       "</div>"
      ],
      "text/plain": [
       "                                                Product  index    cossim\n",
       "3569  M.A.C. Mineralize Charged Water: Revitalizing ...   3569  0.862907\n",
       "1446           Coppertone Sport Continuous Spray SPF 30   1446  0.864155\n",
       "746                     Bioelements WARM GLOW FACE TINT    746  0.873070\n",
       "2442                        GloMinerals gloBody Glisten   2442  0.887799\n",
       "611   Banana Boat UltraMist Dark Tanning Lotion SPF ...    611  0.906903"
      ]
     },
     "execution_count": 397,
     "metadata": {},
     "output_type": "execute_result"
    }
   ],
   "source": [
    "# \"Basic recommendation system with doc2vec\n",
    "\n",
    "# Select a index of a product you like\n",
    "i = 2\n",
    "input_vec = model.docvecs[2]\n",
    "\n",
    "# Calculated a cossim matrix between input text and model's vectors\n",
    "sim_array = map(lambda v: cossim(input_vec, v), model.docvecs)\n",
    "\n",
    "#recommendation\n",
    "print \"You liked this product::: %s\" %review_docs.iloc[i,]['Product']\n",
    "recommend(sim_array,5)"
   ]
  },
  {
   "cell_type": "code",
   "execution_count": null,
   "metadata": {
    "collapsed": true
   },
   "outputs": [],
   "source": []
  }
 ],
 "metadata": {
  "anaconda-cloud": {},
  "kernelspec": {
   "display_name": "Python [default]",
   "language": "python",
   "name": "python2"
  },
  "language_info": {
   "codemirror_mode": {
    "name": "ipython",
    "version": 2
   },
   "file_extension": ".py",
   "mimetype": "text/x-python",
   "name": "python",
   "nbconvert_exporter": "python",
   "pygments_lexer": "ipython2",
   "version": "2.7.12"
  }
 },
 "nbformat": 4,
 "nbformat_minor": 0
}
