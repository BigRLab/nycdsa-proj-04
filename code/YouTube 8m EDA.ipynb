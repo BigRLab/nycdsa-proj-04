{
 "cells": [
  {
   "cell_type": "code",
   "execution_count": null,
   "metadata": {
    "collapsed": true
   },
   "outputs": [],
   "source": [
    "import numpy as np # linear algebra\n",
    "import pandas as pd # data processing, CSV file I/O (e.g. pd.read_csv)\n",
    "import tensorflow as tf\n",
    "import seaborn as sns\n",
    "from IPython.display import YouTubeVideo\n",
    "import matplotlib.pyplot as plt\n",
    "import google.datalab.storage as storage\n",
    "from google.datalab import Context\n",
    "from google.cloud import storage as gcs\n",
    "import csv\n",
    "import StringIO"
   ]
  },
  {
   "cell_type": "code",
   "execution_count": null,
   "metadata": {
    "collapsed": true
   },
   "outputs": [],
   "source": [
    "# Setting up buckets, local and YouTube 8M @ Google Storage\n",
    "\n",
    "storageClient = gcs.Client()\n",
    "\n",
    "project = Context.default().project_id\n",
    "yt8m = 'youtube8m-ml-us-east1'\n",
    "\n",
    "projBucket = storageClient.get_bucket(project)\n",
    "yt8mBucket = storage.Bucket(yt8m)\n",
    "\n",
    "print 'Project: ' + project\n",
    "print 'YT8M: ' + yt8m"
   ]
  },
  {
   "cell_type": "code",
   "execution_count": null,
   "metadata": {
    "collapsed": true
   },
   "outputs": [],
   "source": [
    "# Reading label names from local CSV file\n",
    "\n",
    "label_names = gcs.Blob('label_names.csv', projBucket)\n",
    "label_names = label_names.download_as_string()\n",
    "\n",
    "lbls = []\n",
    "lbl = csv.reader(label_names.split('\\n'), delimiter=',')\n",
    "for row in lbl:\n",
    "  lbls.append(row)\n",
    "  \n",
    "label_names = pd.DataFrame(lbls[1:], columns=lbls[0]) #.set_index('label_id')\n",
    "label_names = label_names.dropna()\n",
    "label_names['label_id'] = label_names.apply(lambda row: int(row['label_id']), axis=1)"
   ]
  },
  {
   "cell_type": "code",
   "execution_count": null,
   "metadata": {
    "collapsed": true
   },
   "outputs": [],
   "source": [
    "# Getting video level training files from Google Cloud Storage\n",
    "\n",
    "video_level_globals = []\n",
    "i = 0\n",
    "for obj in yt8mBucket.objects(prefix='0/video_level/train/'):  # 0: video_level, 1: frame_level\n",
    "    if i == 10:\n",
    "        break\n",
    "    \n",
    "    if obj.key[-4:] != 'html':\n",
    "        video_level_globals.append('gs://' + yt8m + '/' + obj.key)\n",
    "        i += 1\n",
    "#video_level_globals"
   ]
  },
  {
   "cell_type": "code",
   "execution_count": null,
   "metadata": {
    "collapsed": true
   },
   "outputs": [],
   "source": [
    "# Extracting features for each video\n",
    "\n",
    "vid_ids = []\n",
    "vid_labels = []\n",
    "vid_mean_rgb = []\n",
    "vid_mean_audio = []\n",
    "\n",
    "for video in video_level_globals:\n",
    "  for example in tf.python_io.tf_record_iterator(video):\n",
    "    tf_example = tf.train.Example.FromString(example)\n",
    "    \n",
    "    vid_ids.append(tf_example.features.feature['video_id'].bytes_list.value[0].decode(encoding='UTF-8'))\n",
    "    vid_labels.append(tf_example.features.feature['labels'].int64_list.value)\n",
    "    vid_mean_rgb.append(tf_example.features.feature['mean_rgb'].float_list.value)\n",
    "    vid_mean_audio.append(tf_example.features.feature['mean_audio'].float_list.value)"
   ]
  },
  {
   "cell_type": "code",
   "execution_count": null,
   "metadata": {
    "collapsed": true
   },
   "outputs": [],
   "source": [
    "# Labels per video\n",
    "\n",
    "labels_count = []\n",
    "for thisLabel in vid_labels:\n",
    "  labels_count.append(len(thisLabel))"
   ]
  },
  {
   "cell_type": "code",
   "execution_count": null,
   "metadata": {
    "collapsed": true
   },
   "outputs": [],
   "source": [
    "# Plot for labels per video\n",
    "\n",
    "sns.distplot(labels_count, kde=False)\n",
    "plt.title('Distribution of number of labels per video')"
   ]
  },
  {
   "cell_type": "code",
   "execution_count": null,
   "metadata": {
    "collapsed": true
   },
   "outputs": [],
   "source": [
    "# Grouping by labels for total count of each label\n",
    "\n",
    "vid_labels_flat = pd.DataFrame([item for sublist in vid_labels for item in sublist], columns=['label'])\n",
    "vid_labels_flat['label_name'] = vid_labels_flat.apply(lambda row: label_names.loc[row['label'], 'label_name'] if int(row['label']) <= max(label_names['label_id']) else '', axis=1)\n",
    "vid_labels_flat = pd.DataFrame(vid_labels_flat.groupby(['label', 'label_name']).size(), columns=['count']).reset_index()\n",
    "vid_labels_flat = vid_labels_flat.sort_values(by='count', ascending=False)\n",
    "vid_labels_flat.head()"
   ]
  },
  {
   "cell_type": "code",
   "execution_count": null,
   "metadata": {
    "collapsed": true
   },
   "outputs": [],
   "source": [
    "# Bar plot for label count\n",
    "\n",
    "n = 20\n",
    "sns.barplot(y='label_name', x='count', data=vid_labels_flat[0:n])\n",
    "plt.title('Top %d labels with count' % n)"
   ]
  }
 ],
 "metadata": {
  "anaconda-cloud": {},
  "kernelspec": {
   "display_name": "Python [conda env:py27]",
   "language": "python",
   "name": "conda-env-py27-py"
  },
  "language_info": {
   "codemirror_mode": {
    "name": "ipython",
    "version": 2
   },
   "file_extension": ".py",
   "mimetype": "text/x-python",
   "name": "python",
   "nbconvert_exporter": "python",
   "pygments_lexer": "ipython2",
   "version": "2.7.13"
  }
 },
 "nbformat": 4,
 "nbformat_minor": 1
}
